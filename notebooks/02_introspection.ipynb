{
 "cells": [
  {
   "cell_type": "code",
   "execution_count": 8,
   "id": "2de8266e",
   "metadata": {},
   "outputs": [],
   "source": [
    "import pandas as pd\n",
    "from joblib import load\n",
    "\n",
    "pipe = load(\"../models/baseline_tfidf_logreg.joblib\")\n",
    "vec = pipe.named_steps['tfidf']\n",
    "clf = pipe.named_steps['clf']\n",
    "feature_names = vec.get_feature_names_out()\n",
    "coefs = clf.coef_[0]  # positive class coefficients\n"
   ]
  },
  {
   "cell_type": "code",
   "execution_count": 9,
   "id": "47b84c28",
   "metadata": {},
   "outputs": [
    {
     "data": {
      "text/plain": [
       "(     ngram      coef\n",
       " 0    great  8.023406\n",
       " 1     reat  6.970111\n",
       " 2   little  6.766305\n",
       " 3      bit  5.884272\n",
       " 4     nice  5.753139\n",
       " 5      ice  5.692471\n",
       " 6     orks  5.674732\n",
       " 7  perfect  5.666218\n",
       " 8    price  5.402466\n",
       " 9     well  5.235521,\n",
       "           ngram      coef\n",
       " 0        return -6.528087\n",
       " 1      returned -6.473920\n",
       " 2  disappointed -6.249882\n",
       " 3          poor -5.736172\n",
       " 4       useless -5.673207\n",
       " 5         waste -5.541893\n",
       " 6          even -5.086355\n",
       " 7     returning -5.082953\n",
       " 8          junk -4.641397\n",
       " 9      horrible -4.394413)"
      ]
     },
     "execution_count": 9,
     "metadata": {},
     "output_type": "execute_result"
    }
   ],
   "source": [
    "import numpy as np\n",
    "\n",
    "top_pos_idx = np.argsort(coefs)[-30:][::-1]\n",
    "top_neg_idx = np.argsort(coefs)[:30]\n",
    "\n",
    "top_pos = pd.DataFrame( {\n",
    "    'ngram':feature_names[top_pos_idx],\n",
    "    'coef':coefs[top_pos_idx]\n",
    "})\n",
    "\n",
    "top_neg = pd.DataFrame({\n",
    "    'ngram':feature_names[top_neg_idx],\n",
    "    'coef':coefs[top_neg_idx]\n",
    "})\n",
    "\n",
    "top_pos.head(10),top_neg.head(10)"
   ]
  },
  {
   "cell_type": "code",
   "execution_count": 10,
   "id": "43fdea50",
   "metadata": {},
   "outputs": [],
   "source": [
    "top_pos.to_csv(\"../reports/figures/model_top_positive_ngrams.csv\", index=False)\n",
    "top_neg.to_csv(\"../reports/figures/model_top_negative_ngrams.csv\", index=False)"
   ]
  },
  {
   "cell_type": "code",
   "execution_count": 11,
   "id": "c7cd9ca3",
   "metadata": {},
   "outputs": [],
   "source": [
    "# quick bar plot\n",
    "import matplotlib.pyplot as plt\n",
    "\n",
    "def barh(df,title,fname):\n",
    "    ax = df.sort_values('coef').plot(kind='barh',x='ngram',y='coef',figsize=(8,6),legend=False)\n",
    "    ax.set_title(title)\n",
    "    plt.savefig(fname,dpi=150)\n",
    "    plt.close()\n",
    "    \n",
    "barh(top_pos.head(20),\"Top positive ngrams\",\"../reports/figures/model_top_pos_bars.png\")\n",
    "barh(top_neg.head(20),\"Top negative ngrams\",\"../reports/figures/model_top_neg_bars.png\")"
   ]
  }
 ],
 "metadata": {
  "kernelspec": {
   "display_name": ".venv",
   "language": "python",
   "name": "python3"
  },
  "language_info": {
   "codemirror_mode": {
    "name": "ipython",
    "version": 3
   },
   "file_extension": ".py",
   "mimetype": "text/x-python",
   "name": "python",
   "nbconvert_exporter": "python",
   "pygments_lexer": "ipython3",
   "version": "3.13.5"
  }
 },
 "nbformat": 4,
 "nbformat_minor": 5
}
